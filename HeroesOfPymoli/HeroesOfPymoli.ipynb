{
 "cells": [
  {
   "cell_type": "code",
   "execution_count": 28,
   "id": "ebc0986b",
   "metadata": {},
   "outputs": [],
   "source": [
    "# import and set alias for pandas\n",
    "import pandas as pd"
   ]
  },
  {
   "cell_type": "code",
   "execution_count": 37,
   "id": "4c8cc84e",
   "metadata": {},
   "outputs": [
    {
     "data": {
      "text/plain": [
       "'C:\\\\Users\\\\freed\\\\class_folder\\\\Pandas-Challenge\\\\HeroesOfPymoli'"
      ]
     },
     "execution_count": 37,
     "metadata": {},
     "output_type": "execute_result"
    }
   ],
   "source": [
    "pwd"
   ]
  },
  {
   "cell_type": "code",
   "execution_count": 21,
   "id": "8d24fa45",
   "metadata": {},
   "outputs": [],
   "source": [
    "# read in purchase_data.csv file\n",
    "\n",
    "data_file = \"../../gt-virt-data-pt-12-2021-u-c/04-Pandas/Homework/HeroesOfPymoli/Resources/purchase_data.csv\""
   ]
  },
  {
   "cell_type": "code",
   "execution_count": 22,
   "id": "15f9ba73",
   "metadata": {},
   "outputs": [],
   "source": [
    "heroes_data = pd.read_csv(data_file)"
   ]
  },
  {
   "cell_type": "code",
   "execution_count": null,
   "id": "91b939fc",
   "metadata": {},
   "outputs": [],
   "source": []
  },
  {
   "cell_type": "code",
   "execution_count": null,
   "id": "d87d6b25",
   "metadata": {},
   "outputs": [],
   "source": []
  }
 ],
 "metadata": {
  "kernelspec": {
   "display_name": "pythondata",
   "language": "python",
   "name": "pythondata"
  },
  "language_info": {
   "codemirror_mode": {
    "name": "ipython",
    "version": 3
   },
   "file_extension": ".py",
   "mimetype": "text/x-python",
   "name": "python",
   "nbconvert_exporter": "python",
   "pygments_lexer": "ipython3",
   "version": "3.8.12"
  }
 },
 "nbformat": 4,
 "nbformat_minor": 5
}
